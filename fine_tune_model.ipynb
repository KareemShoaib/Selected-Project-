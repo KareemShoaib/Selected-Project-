{
  "cells": [
    {
      "cell_type": "markdown",
      "metadata": {
        "id": "wmtENXHnaF2p"
      },
      "source": [
        "## Data Preprocessing"
      ]
    },
    {
      "cell_type": "code",
      "execution_count": null,
      "metadata": {
        "colab": {
          "base_uri": "https://localhost:8080/"
        },
        "id": "5PCBHx4MaX61",
        "outputId": "3543c582-1f95-426e-ba33-f33fa19cf2d3"
      },
      "outputs": [
        {
          "name": "stdout",
          "output_type": "stream",
          "text": [
            "True\n",
            "Tesla T4\n"
          ]
        }
      ],
      "source": [
        "import torch\n",
        "print(torch.cuda.is_available())  # Should print True\n",
        "print(torch.cuda.get_device_name(0))  # Shows the GPU name"
      ]
    },
    {
      "cell_type": "markdown",
      "metadata": {
        "id": "ax-1DmQRbSiF"
      },
      "source": [
        "### Imports"
      ]
    },
    {
      "cell_type": "code",
      "execution_count": null,
      "metadata": {
        "id": "-fVNT9INaF2t"
      },
      "outputs": [],
      "source": [
        "import pandas as pd\n",
        "import numpy as np\n",
        "import re\n",
        "import string\n",
        "from sklearn.preprocessing import MinMaxScaler\n",
        "from sklearn.model_selection import train_test_split\n",
        "from collections import Counter\n",
        "import nltk\n",
        "from nltk.corpus import stopwords\n",
        "from nltk.stem import PorterStemmer\n",
        "from sentence_transformers import SentenceTransformer, InputExample, losses\n",
        "from torch.utils.data import DataLoader\n",
        "\n",
        "try:\n",
        "    nltk.data.find('tokenizers/punkt')\n",
        "    nltk.data.find('corpora/stopwords')\n",
        "except LookupError:\n",
        "    nltk.download('punkt')\n",
        "    nltk.download('stopwords')"
      ]
    },
    {
      "cell_type": "markdown",
      "metadata": {
        "id": "OD100z6eaF2w"
      },
      "source": [
        "### Preprocessor Class"
      ]
    },
    {
      "cell_type": "code",
      "execution_count": null,
      "metadata": {
        "id": "6dIGm7wxaF2x"
      },
      "outputs": [],
      "source": [
        "class Preprocessor:\n",
        "    def __init__(self):\n",
        "        self.stop_words = set(stopwords.words('english'))\n",
        "        self.stemmer = PorterStemmer()\n",
        "\n",
        "    def clean_text(self, text):\n",
        "        \"\"\"Comprehensive text cleaning for product search\"\"\"\n",
        "        if pd.isna(text):\n",
        "            return \"\"\n",
        "\n",
        "        text = str(text).lower()\n",
        "\n",
        "        # Remove special characters but keep important ones for products\n",
        "        text = re.sub(r'[^\\w\\s\\-\\.]', ' ', text)\n",
        "\n",
        "        # Handle measurements and units (keep them meaningful)\n",
        "        text = re.sub(r'(\\d+)\\s*-\\s*(\\w+)', r'\\1\\2', text)  # \"12-gauge\" -> \"12gauge\"\n",
        "        text = re.sub(r'(\\d+)\\s*(\\w+)', r'\\1\\2', text)      # \"1 gal\" -> \"1gal\"\n",
        "\n",
        "        # Remove extra whitespace\n",
        "        text = re.sub(r'\\s+', ' ', text).strip()\n",
        "\n",
        "        return text\n",
        "\n",
        "    def extract_features(self, text):\n",
        "        \"\"\"Extract meaningful features from product text\"\"\"\n",
        "        if pd.isna(text):\n",
        "            return \"\"\n",
        "\n",
        "        text = str(text).lower()\n",
        "        features = []\n",
        "\n",
        "        # Extract brand information (first few words often contain brand)\n",
        "        words = text.split()\n",
        "        if len(words) > 0:\n",
        "            potential_brand = words[0]\n",
        "            features.append(f\"brand_{potential_brand}\")\n",
        "\n",
        "        # Extract measurements\n",
        "        measurements = re.findall(r'\\d+(?:\\.\\d+)?(?:inch|in|ft|gal|gauge|lb)', text)\n",
        "        features.extend([f\"measure_{m}\" for m in measurements])\n",
        "\n",
        "        colors = re.findall(r'\\b(?:black|white|brown|gray|grey|red|blue|green|yellow|silver|gold)\\b', text)\n",
        "        features.extend([f\"color_{c}\" for c in colors])\n",
        "\n",
        "        return \" \".join(features)\n",
        "\n",
        "    def remove_stopwords_and_stem(self, text):\n",
        "        \"\"\"Remove stopwords and apply stemming\"\"\"\n",
        "        if pd.isna(text):\n",
        "            return \"\"\n",
        "\n",
        "        words = text.split()\n",
        "        important_words = {'with', 'for', 'in', 'on', 'over', 'under'}\n",
        "        filtered_words = []\n",
        "\n",
        "        for word in words:\n",
        "            if word not in self.stop_words or word in important_words:\n",
        "                stemmed = self.stemmer.stem(word)\n",
        "                filtered_words.append(stemmed)\n",
        "\n",
        "        return \" \".join(filtered_words)\n"
      ]
    },
    {
      "cell_type": "markdown",
      "metadata": {
        "id": "dU3nLOhlaF2z"
      },
      "source": [
        "### Preprocessing Steps"
      ]
    },
    {
      "cell_type": "code",
      "execution_count": null,
      "metadata": {
        "colab": {
          "base_uri": "https://localhost:8080/"
        },
        "id": "A9DepLGKaF2z",
        "outputId": "cc953394-a3c2-4b7c-b34c-86ae7fdc0dd8"
      },
      "outputs": [
        {
          "name": "stdout",
          "output_type": "stream",
          "text": [
            "After removing duplicates and nulls: (5000, 5)\n",
            "Final dataset shape: (5000, 3)\n",
            "                                       product_title  \\\n",
            "0        simpson strong-ti 12gaug angl brand_simpson   \n",
            "1        simpson strong-ti 12gaug angl brand_simpson   \n",
            "2  behr premium textur deckov 1gal. sc-141tugboat...   \n",
            "3  delta vero 1handl shower faucet trim kit in ch...   \n",
            "4  delta vero 1handl shower faucet trim kit in ch...   \n",
            "\n",
            "                   search_term  relevance  \n",
            "0      angl bracket brand_angl       3.00  \n",
            "1            l bracket brand_l       2.50  \n",
            "2         deck over brand_deck       3.00  \n",
            "3  rain shower head brand_rain       2.33  \n",
            "4     shower faucet brand_show       2.67  \n"
          ]
        }
      ],
      "source": [
        "df = pd.read_csv('csv/small/train.csv')\n",
        "\n",
        "df = df.drop_duplicates()\n",
        "df = df.dropna(subset=['product_title', 'search_term', 'relevance'])\n",
        "print(f\"After removing duplicates and nulls: {df.shape}\")\n",
        "\n",
        "preprocessor = Preprocessor()\n",
        "df['search_term_clean'] = df['search_term'].apply(preprocessor.clean_text)\n",
        "df['product_title_clean'] = df['product_title'].apply(preprocessor.clean_text)\n",
        "\n",
        "df['search_term_features'] = df['search_term'].apply(preprocessor.extract_features)\n",
        "df['product_title_features'] = df['product_title'].apply(preprocessor.extract_features)\n",
        "\n",
        "df['search_term'] = df['search_term_clean'] + \" \" + df['search_term_features']\n",
        "df['product_title'] = df['product_title_clean'] + \" \" + df['product_title_features']\n",
        "df = df.drop(columns=['search_term_clean', 'product_title_clean', 'search_term_features', 'product_title_features', 'product_uid', 'id'])\n",
        "\n",
        "df['search_term'] = df['search_term'].apply(preprocessor.remove_stopwords_and_stem)\n",
        "df['product_title'] = df['product_title'].apply(preprocessor.remove_stopwords_and_stem)\n",
        "\n",
        "print(f\"Final dataset shape: {df.shape}\")\n",
        "print(df.head())"
      ]
    },
    {
      "cell_type": "code",
      "execution_count": null,
      "metadata": {
        "colab": {
          "base_uri": "https://localhost:8080/"
        },
        "id": "gtzr-amYaF22",
        "outputId": "0216e66e-2848-4a4d-ed49-8add118dfd09"
      },
      "outputs": [
        {
          "name": "stdout",
          "output_type": "stream",
          "text": [
            "Outlier bounds: [-0.25, 1.75]\n",
            "Number of outliers: 0\n",
            "                                       product_title  \\\n",
            "0        simpson strong-ti 12gaug angl brand_simpson   \n",
            "1        simpson strong-ti 12gaug angl brand_simpson   \n",
            "2  behr premium textur deckov 1gal. sc-141tugboat...   \n",
            "3  delta vero 1handl shower faucet trim kit in ch...   \n",
            "4  delta vero 1handl shower faucet trim kit in ch...   \n",
            "\n",
            "                   search_term  relevance  \n",
            "0      angl bracket brand_angl      1.000  \n",
            "1            l bracket brand_l      0.750  \n",
            "2         deck over brand_deck      1.000  \n",
            "3  rain shower head brand_rain      0.665  \n",
            "4     shower faucet brand_show      0.835  \n"
          ]
        }
      ],
      "source": [
        "Q1 = df['relevance'].quantile(0.25)\n",
        "Q3 = df['relevance'].quantile(0.75)\n",
        "IQR = Q3 - Q1\n",
        "lower_bound = Q1 - 1.5 * IQR\n",
        "upper_bound = Q3 + 1.5 * IQR\n",
        "\n",
        "print(f\"Outlier bounds: [{lower_bound:.2f}, {upper_bound:.2f}]\")\n",
        "outliers_count = len(df[(df['relevance'] < lower_bound) | (df['relevance'] > upper_bound)])\n",
        "print(f\"Number of outliers: {outliers_count}\")\n",
        "\n",
        "df['relevance'] = df['relevance'].clip(lower_bound, upper_bound)\n",
        "\n",
        "scaler = MinMaxScaler()\n",
        "df['relevance'] = scaler.fit_transform(df[['relevance']])\n",
        "\n",
        "print(df.head())"
      ]
    },
    {
      "cell_type": "markdown",
      "metadata": {
        "id": "bXMRVoKZaF3F"
      },
      "source": [
        "## Model Training"
      ]
    },
    {
      "cell_type": "code",
      "execution_count": null,
      "metadata": {
        "id": "JgdG3qAYaF3F"
      },
      "outputs": [],
      "source": [
        "from sentence_transformers import SentenceTransformer, InputExample, losses\n",
        "from torch.utils.data import DataLoader\n",
        "from sklearn.model_selection import train_test_split\n",
        "from sentence_transformers.evaluation import EmbeddingSimilarityEvaluator\n",
        "import os\n",
        "os.environ[\"WANDB_DISABLED\"] = \"true\""
      ]
    },
    {
      "cell_type": "markdown",
      "metadata": {
        "id": "4uvy7dx0clAF"
      },
      "source": []
    },
    {
      "cell_type": "code",
      "execution_count": null,
      "metadata": {
        "colab": {
          "base_uri": "https://localhost:8080/"
        },
        "id": "G99YWYPRaF3F",
        "outputId": "aef54c42-0cbb-4e5e-8e4b-7cd2813fe17c"
      },
      "outputs": [
        {
          "name": "stdout",
          "output_type": "stream",
          "text": [
            "Train examples size:  4000\n",
            "Val examples size:  1000\n"
          ]
        }
      ],
      "source": [
        "train_df, val_df = train_test_split(df, test_size=0.2, random_state=42)\n",
        "\n",
        "train_examples = [\n",
        "    InputExample(texts=[s, p], label=float(r))\n",
        "    for s, p, r in zip(train_df['search_term'], train_df['product_title'], train_df['relevance'])\n",
        "]\n",
        "\n",
        "val_examples = [\n",
        "    InputExample(texts=[s, p], label=float(r))\n",
        "    for s, p, r in zip(val_df['search_term'], val_df['product_title'], val_df['relevance'])\n",
        "]\n",
        "\n",
        "print(\"Train examples size: \", len(train_examples))\n",
        "print(\"Val examples size: \", len(val_examples))"
      ]
    },
    {
      "cell_type": "code",
      "execution_count": null,
      "metadata": {
        "colab": {
          "base_uri": "https://localhost:8080/",
          "height": 481,
          "referenced_widgets": [
            "e9cfbc81db3141e78871f91ef3c8be40",
            "f7a312877de642e7b60f9fa1e857844e",
            "dc209352950249fbb99cb5baa2570909",
            "d60a8a8f70f64888a657d5327fef5429",
            "ab006f15fd1245fb88d5ac1003e1fb87",
            "b152219d4e3d408ebff09bb90c6202b3",
            "db766163c00f4256b9574807c6a27e98",
            "59ece9fc9f104f19b86c765ee89fd46a",
            "fd0534cbe40e48aaa5edea6ba45a613d",
            "822d422e1f9044d793225a0373cd1a6f",
            "37b24499a056411b9cdf1123a922e50c"
          ]
        },
        "id": "iNMGQvTKbssx",
        "outputId": "49a52a6b-553c-409d-dbb0-a4955a14649f"
      },
      "outputs": [
        {
          "name": "stderr",
          "output_type": "stream",
          "text": [
            "/usr/local/lib/python3.11/dist-packages/datasets/table.py:1395: FutureWarning: promote has been superseded by promote_options='default'.\n",
            "  block_group = [InMemoryTable(cls._concat_blocks(list(block_group), axis=axis))]\n",
            "/usr/local/lib/python3.11/dist-packages/datasets/table.py:1421: FutureWarning: promote has been superseded by promote_options='default'.\n",
            "  table = cls._concat_blocks(blocks, axis=0)\n",
            "Using the `WANDB_DISABLED` environment variable is deprecated and will be removed in v5. Use the --report_to flag to control the integrations used for logging result (for instance --report_to none).\n",
            "Using the `WANDB_DISABLED` environment variable is deprecated and will be removed in v5. Use the --report_to flag to control the integrations used for logging result (for instance --report_to none).\n"
          ]
        },
        {
          "data": {
            "application/vnd.jupyter.widget-view+json": {
              "model_id": "e9cfbc81db3141e78871f91ef3c8be40",
              "version_major": 2,
              "version_minor": 0
            },
            "text/plain": [
              "Computing widget examples:   0%|          | 0/1 [00:00<?, ?example/s]"
            ]
          },
          "metadata": {},
          "output_type": "display_data"
        },
        {
          "data": {
            "text/html": [
              "\n",
              "    <div>\n",
              "      \n",
              "      <progress value='750' max='750' style='width:300px; height:20px; vertical-align: middle;'></progress>\n",
              "      [750/750 00:48, Epoch 3/3]\n",
              "    </div>\n",
              "    <table border=\"1\" class=\"dataframe\">\n",
              "  <thead>\n",
              " <tr style=\"text-align: left;\">\n",
              "      <th>Step</th>\n",
              "      <th>Training Loss</th>\n",
              "      <th>Validation Loss</th>\n",
              "      <th>Val Pearson Cosine</th>\n",
              "      <th>Val Spearman Cosine</th>\n",
              "    </tr>\n",
              "  </thead>\n",
              "  <tbody>\n",
              "    <tr>\n",
              "      <td>100</td>\n",
              "      <td>No log</td>\n",
              "      <td>No log</td>\n",
              "      <td>0.391603</td>\n",
              "      <td>0.375935</td>\n",
              "    </tr>\n",
              "    <tr>\n",
              "      <td>200</td>\n",
              "      <td>No log</td>\n",
              "      <td>No log</td>\n",
              "      <td>0.427199</td>\n",
              "      <td>0.412341</td>\n",
              "    </tr>\n",
              "    <tr>\n",
              "      <td>250</td>\n",
              "      <td>No log</td>\n",
              "      <td>No log</td>\n",
              "      <td>0.431074</td>\n",
              "      <td>0.416758</td>\n",
              "    </tr>\n",
              "    <tr>\n",
              "      <td>300</td>\n",
              "      <td>No log</td>\n",
              "      <td>No log</td>\n",
              "      <td>0.440604</td>\n",
              "      <td>0.426996</td>\n",
              "    </tr>\n",
              "    <tr>\n",
              "      <td>400</td>\n",
              "      <td>No log</td>\n",
              "      <td>No log</td>\n",
              "      <td>0.435584</td>\n",
              "      <td>0.421595</td>\n",
              "    </tr>\n",
              "    <tr>\n",
              "      <td>500</td>\n",
              "      <td>0.061000</td>\n",
              "      <td>No log</td>\n",
              "      <td>0.444919</td>\n",
              "      <td>0.436591</td>\n",
              "    </tr>\n",
              "    <tr>\n",
              "      <td>600</td>\n",
              "      <td>0.061000</td>\n",
              "      <td>No log</td>\n",
              "      <td>0.445679</td>\n",
              "      <td>0.437631</td>\n",
              "    </tr>\n",
              "    <tr>\n",
              "      <td>700</td>\n",
              "      <td>0.061000</td>\n",
              "      <td>No log</td>\n",
              "      <td>0.450858</td>\n",
              "      <td>0.442915</td>\n",
              "    </tr>\n",
              "    <tr>\n",
              "      <td>750</td>\n",
              "      <td>0.061000</td>\n",
              "      <td>No log</td>\n",
              "      <td>0.450748</td>\n",
              "      <td>0.442925</td>\n",
              "    </tr>\n",
              "  </tbody>\n",
              "</table><p>"
            ],
            "text/plain": [
              "<IPython.core.display.HTML object>"
            ]
          },
          "metadata": {},
          "output_type": "display_data"
        }
      ],
      "source": [
        "train_dataloader = DataLoader(train_examples, shuffle=True, batch_size=16)\n",
        "val_dataloader = DataLoader(val_examples, shuffle=False, batch_size=16)\n",
        "\n",
        "val_evaluator = EmbeddingSimilarityEvaluator.from_input_examples(val_examples, name='val')\n",
        "\n",
        "model = SentenceTransformer('all-MiniLM-L6-v2')\n",
        "train_loss = losses.CosineSimilarityLoss(model)\n",
        "\n",
        "model.fit(\n",
        "    train_objectives=[(train_dataloader, train_loss)],\n",
        "    evaluator=val_evaluator,\n",
        "    epochs=3,\n",
        "    warmup_steps=100,\n",
        "    evaluation_steps=100,\n",
        "    show_progress_bar=True,\n",
        "    output_path='fine_tuned_model'\n",
        ")"
      ]
    },
    {
      "cell_type": "markdown",
      "metadata": {
        "id": "QjpoTFWFdFuV"
      },
      "source": [
        "## Model Testing Manual"
      ]
    },
    {
      "cell_type": "code",
      "execution_count": null,
      "metadata": {
        "colab": {
          "base_uri": "https://localhost:8080/"
        },
        "id": "70ZcCzVoeCs0",
        "outputId": "8190c51c-a172-4831-ebc3-999d064b7491"
      },
      "outputs": [
        {
          "name": "stdout",
          "output_type": "stream",
          "text": [
            "\n",
            "Top 5 results for your query: \"simpson\"\n",
            "1. simpson strong-ti cb 6x6 galvan column base brand_simpson (score: 0.4448)\n",
            "2. simpson strong-ti 2in. 12gaug pipe grip tie brand_simpson (score: 0.4354)\n",
            "3. simpson strong-ti 2in. 12gaug pipe grip tie brand_simpson (score: 0.4354)\n",
            "4. simpson strong-ti 2in. 12gaug pipe grip tie brand_simpson (score: 0.4354)\n",
            "5. simpson strong-ti 12gaug black powder-co e-z base brand_simpson color_black (score: 0.4236)\n"
          ]
        }
      ],
      "source": [
        "from sentence_transformers import SentenceTransformer, util\n",
        "\n",
        "documents = df['product_title'].tolist()\n",
        "\n",
        "model = SentenceTransformer('fine_tuned_model')\n",
        "\n",
        "doc_embeddings = model.encode(documents, convert_to_tensor=True)\n",
        "\n",
        "def semantic_search(query: str, top_k: int = 5):\n",
        "    query_embedding = model.encode(query, convert_to_tensor=True)\n",
        "    hits = util.semantic_search(query_embedding, doc_embeddings, top_k=top_k)[0]\n",
        "\n",
        "    print(f\"\\nTop {top_k} results for your query: \\\"{query}\\\"\")\n",
        "    for i, hit in enumerate(hits):\n",
        "        doc = documents[hit['corpus_id']]\n",
        "        print(f\"{i+1}. {doc} (score: {hit['score']:.4f})\")\n",
        "\n",
        "user_query = \"simpson\"\n",
        "semantic_search(user_query)"
      ]
    }
  ],
  "metadata": {
    "accelerator": "GPU",
    "colab": {
      "collapsed_sections": [
        "ax-1DmQRbSiF",
        "OD100z6eaF2w",
        "dU3nLOhlaF2z",
        "bXMRVoKZaF3F",
        "QjpoTFWFdFuV"
      ],
      "gpuType": "T4",
      "provenance": []
    },
    "kernelspec": {
      "display_name": ".venv",
      "language": "python",
      "name": "python3"
    },
    "language_info": {
      "codemirror_mode": {
        "name": "ipython",
        "version": 3
      },
      "file_extension": ".py",
      "mimetype": "text/x-python",
      "name": "python",
      "nbconvert_exporter": "python",
      "pygments_lexer": "ipython3",
      "version": "3.12.8"
    },
    "widgets": {
      "application/vnd.jupyter.widget-state+json": {
        "37b24499a056411b9cdf1123a922e50c": {
          "model_module": "@jupyter-widgets/controls",
          "model_module_version": "1.5.0",
          "model_name": "DescriptionStyleModel",
          "state": {
            "_model_module": "@jupyter-widgets/controls",
            "_model_module_version": "1.5.0",
            "_model_name": "DescriptionStyleModel",
            "_view_count": null,
            "_view_module": "@jupyter-widgets/base",
            "_view_module_version": "1.2.0",
            "_view_name": "StyleView",
            "description_width": ""
          }
        },
        "59ece9fc9f104f19b86c765ee89fd46a": {
          "model_module": "@jupyter-widgets/base",
          "model_module_version": "1.2.0",
          "model_name": "LayoutModel",
          "state": {
            "_model_module": "@jupyter-widgets/base",
            "_model_module_version": "1.2.0",
            "_model_name": "LayoutModel",
            "_view_count": null,
            "_view_module": "@jupyter-widgets/base",
            "_view_module_version": "1.2.0",
            "_view_name": "LayoutView",
            "align_content": null,
            "align_items": null,
            "align_self": null,
            "border": null,
            "bottom": null,
            "display": null,
            "flex": null,
            "flex_flow": null,
            "grid_area": null,
            "grid_auto_columns": null,
            "grid_auto_flow": null,
            "grid_auto_rows": null,
            "grid_column": null,
            "grid_gap": null,
            "grid_row": null,
            "grid_template_areas": null,
            "grid_template_columns": null,
            "grid_template_rows": null,
            "height": null,
            "justify_content": null,
            "justify_items": null,
            "left": null,
            "margin": null,
            "max_height": null,
            "max_width": null,
            "min_height": null,
            "min_width": null,
            "object_fit": null,
            "object_position": null,
            "order": null,
            "overflow": null,
            "overflow_x": null,
            "overflow_y": null,
            "padding": null,
            "right": null,
            "top": null,
            "visibility": null,
            "width": null
          }
        },
        "822d422e1f9044d793225a0373cd1a6f": {
          "model_module": "@jupyter-widgets/base",
          "model_module_version": "1.2.0",
          "model_name": "LayoutModel",
          "state": {
            "_model_module": "@jupyter-widgets/base",
            "_model_module_version": "1.2.0",
            "_model_name": "LayoutModel",
            "_view_count": null,
            "_view_module": "@jupyter-widgets/base",
            "_view_module_version": "1.2.0",
            "_view_name": "LayoutView",
            "align_content": null,
            "align_items": null,
            "align_self": null,
            "border": null,
            "bottom": null,
            "display": null,
            "flex": null,
            "flex_flow": null,
            "grid_area": null,
            "grid_auto_columns": null,
            "grid_auto_flow": null,
            "grid_auto_rows": null,
            "grid_column": null,
            "grid_gap": null,
            "grid_row": null,
            "grid_template_areas": null,
            "grid_template_columns": null,
            "grid_template_rows": null,
            "height": null,
            "justify_content": null,
            "justify_items": null,
            "left": null,
            "margin": null,
            "max_height": null,
            "max_width": null,
            "min_height": null,
            "min_width": null,
            "object_fit": null,
            "object_position": null,
            "order": null,
            "overflow": null,
            "overflow_x": null,
            "overflow_y": null,
            "padding": null,
            "right": null,
            "top": null,
            "visibility": null,
            "width": null
          }
        },
        "ab006f15fd1245fb88d5ac1003e1fb87": {
          "model_module": "@jupyter-widgets/base",
          "model_module_version": "1.2.0",
          "model_name": "LayoutModel",
          "state": {
            "_model_module": "@jupyter-widgets/base",
            "_model_module_version": "1.2.0",
            "_model_name": "LayoutModel",
            "_view_count": null,
            "_view_module": "@jupyter-widgets/base",
            "_view_module_version": "1.2.0",
            "_view_name": "LayoutView",
            "align_content": null,
            "align_items": null,
            "align_self": null,
            "border": null,
            "bottom": null,
            "display": null,
            "flex": null,
            "flex_flow": null,
            "grid_area": null,
            "grid_auto_columns": null,
            "grid_auto_flow": null,
            "grid_auto_rows": null,
            "grid_column": null,
            "grid_gap": null,
            "grid_row": null,
            "grid_template_areas": null,
            "grid_template_columns": null,
            "grid_template_rows": null,
            "height": null,
            "justify_content": null,
            "justify_items": null,
            "left": null,
            "margin": null,
            "max_height": null,
            "max_width": null,
            "min_height": null,
            "min_width": null,
            "object_fit": null,
            "object_position": null,
            "order": null,
            "overflow": null,
            "overflow_x": null,
            "overflow_y": null,
            "padding": null,
            "right": null,
            "top": null,
            "visibility": "hidden",
            "width": null
          }
        },
        "b152219d4e3d408ebff09bb90c6202b3": {
          "model_module": "@jupyter-widgets/base",
          "model_module_version": "1.2.0",
          "model_name": "LayoutModel",
          "state": {
            "_model_module": "@jupyter-widgets/base",
            "_model_module_version": "1.2.0",
            "_model_name": "LayoutModel",
            "_view_count": null,
            "_view_module": "@jupyter-widgets/base",
            "_view_module_version": "1.2.0",
            "_view_name": "LayoutView",
            "align_content": null,
            "align_items": null,
            "align_self": null,
            "border": null,
            "bottom": null,
            "display": null,
            "flex": null,
            "flex_flow": null,
            "grid_area": null,
            "grid_auto_columns": null,
            "grid_auto_flow": null,
            "grid_auto_rows": null,
            "grid_column": null,
            "grid_gap": null,
            "grid_row": null,
            "grid_template_areas": null,
            "grid_template_columns": null,
            "grid_template_rows": null,
            "height": null,
            "justify_content": null,
            "justify_items": null,
            "left": null,
            "margin": null,
            "max_height": null,
            "max_width": null,
            "min_height": null,
            "min_width": null,
            "object_fit": null,
            "object_position": null,
            "order": null,
            "overflow": null,
            "overflow_x": null,
            "overflow_y": null,
            "padding": null,
            "right": null,
            "top": null,
            "visibility": null,
            "width": null
          }
        },
        "d60a8a8f70f64888a657d5327fef5429": {
          "model_module": "@jupyter-widgets/controls",
          "model_module_version": "1.5.0",
          "model_name": "HTMLModel",
          "state": {
            "_dom_classes": [],
            "_model_module": "@jupyter-widgets/controls",
            "_model_module_version": "1.5.0",
            "_model_name": "HTMLModel",
            "_view_count": null,
            "_view_module": "@jupyter-widgets/controls",
            "_view_module_version": "1.5.0",
            "_view_name": "HTMLView",
            "description": "",
            "description_tooltip": null,
            "layout": "IPY_MODEL_822d422e1f9044d793225a0373cd1a6f",
            "placeholder": "​",
            "style": "IPY_MODEL_37b24499a056411b9cdf1123a922e50c",
            "value": " 0/1 [00:00&lt;?, ?example/s]"
          }
        },
        "db766163c00f4256b9574807c6a27e98": {
          "model_module": "@jupyter-widgets/controls",
          "model_module_version": "1.5.0",
          "model_name": "DescriptionStyleModel",
          "state": {
            "_model_module": "@jupyter-widgets/controls",
            "_model_module_version": "1.5.0",
            "_model_name": "DescriptionStyleModel",
            "_view_count": null,
            "_view_module": "@jupyter-widgets/base",
            "_view_module_version": "1.2.0",
            "_view_name": "StyleView",
            "description_width": ""
          }
        },
        "dc209352950249fbb99cb5baa2570909": {
          "model_module": "@jupyter-widgets/controls",
          "model_module_version": "1.5.0",
          "model_name": "FloatProgressModel",
          "state": {
            "_dom_classes": [],
            "_model_module": "@jupyter-widgets/controls",
            "_model_module_version": "1.5.0",
            "_model_name": "FloatProgressModel",
            "_view_count": null,
            "_view_module": "@jupyter-widgets/controls",
            "_view_module_version": "1.5.0",
            "_view_name": "ProgressView",
            "bar_style": "",
            "description": "",
            "description_tooltip": null,
            "layout": "IPY_MODEL_59ece9fc9f104f19b86c765ee89fd46a",
            "max": 1,
            "min": 0,
            "orientation": "horizontal",
            "style": "IPY_MODEL_fd0534cbe40e48aaa5edea6ba45a613d",
            "value": 1
          }
        },
        "e9cfbc81db3141e78871f91ef3c8be40": {
          "model_module": "@jupyter-widgets/controls",
          "model_module_version": "1.5.0",
          "model_name": "HBoxModel",
          "state": {
            "_dom_classes": [],
            "_model_module": "@jupyter-widgets/controls",
            "_model_module_version": "1.5.0",
            "_model_name": "HBoxModel",
            "_view_count": null,
            "_view_module": "@jupyter-widgets/controls",
            "_view_module_version": "1.5.0",
            "_view_name": "HBoxView",
            "box_style": "",
            "children": [
              "IPY_MODEL_f7a312877de642e7b60f9fa1e857844e",
              "IPY_MODEL_dc209352950249fbb99cb5baa2570909",
              "IPY_MODEL_d60a8a8f70f64888a657d5327fef5429"
            ],
            "layout": "IPY_MODEL_ab006f15fd1245fb88d5ac1003e1fb87"
          }
        },
        "f7a312877de642e7b60f9fa1e857844e": {
          "model_module": "@jupyter-widgets/controls",
          "model_module_version": "1.5.0",
          "model_name": "HTMLModel",
          "state": {
            "_dom_classes": [],
            "_model_module": "@jupyter-widgets/controls",
            "_model_module_version": "1.5.0",
            "_model_name": "HTMLModel",
            "_view_count": null,
            "_view_module": "@jupyter-widgets/controls",
            "_view_module_version": "1.5.0",
            "_view_name": "HTMLView",
            "description": "",
            "description_tooltip": null,
            "layout": "IPY_MODEL_b152219d4e3d408ebff09bb90c6202b3",
            "placeholder": "​",
            "style": "IPY_MODEL_db766163c00f4256b9574807c6a27e98",
            "value": "Computing widget examples:   0%"
          }
        },
        "fd0534cbe40e48aaa5edea6ba45a613d": {
          "model_module": "@jupyter-widgets/controls",
          "model_module_version": "1.5.0",
          "model_name": "ProgressStyleModel",
          "state": {
            "_model_module": "@jupyter-widgets/controls",
            "_model_module_version": "1.5.0",
            "_model_name": "ProgressStyleModel",
            "_view_count": null,
            "_view_module": "@jupyter-widgets/base",
            "_view_module_version": "1.2.0",
            "_view_name": "StyleView",
            "bar_color": null,
            "description_width": ""
          }
        }
      }
    }
  },
  "nbformat": 4,
  "nbformat_minor": 0
}
